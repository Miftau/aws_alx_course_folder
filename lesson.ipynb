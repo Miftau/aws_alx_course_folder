{
 "cells": [
  {
   "cell_type": "code",
   "execution_count": 2,
   "metadata": {},
   "outputs": [],
   "source": [
    "class Shoes:\n",
    "    \n",
    "    def __init__(self, size, price, number_of_sales):\n",
    "        self.size = size\n",
    "        self.price = f\"${price}\"\n",
    "        self.number_of_sales = number_of_sales\n",
    "    \n",
    "    def sales(self):\n",
    "        return self.price * self.number_of_sales\n",
    "    \n",
    "    def discount(self, percentage):\n",
    "        discount = self.price *(1 - percentage)"
   ]
  },
  {
   "cell_type": "code",
   "execution_count": 3,
   "metadata": {},
   "outputs": [
    {
     "name": "stdout",
     "output_type": "stream",
     "text": [
      "$59\n"
     ]
    }
   ],
   "source": [
    "shoe = Shoes(42, \"59\", 5)\n",
    "price = shoe.price\n",
    "print(price)"
   ]
  }
 ],
 "metadata": {
  "kernelspec": {
   "display_name": "Python 3",
   "language": "python",
   "name": "python3"
  },
  "language_info": {
   "codemirror_mode": {
    "name": "ipython",
    "version": 3
   },
   "file_extension": ".py",
   "mimetype": "text/x-python",
   "name": "python",
   "nbconvert_exporter": "python",
   "pygments_lexer": "ipython3",
   "version": "3.10.7 (tags/v3.10.7:6cc6b13, Sep  5 2022, 14:08:36) [MSC v.1933 64 bit (AMD64)]"
  },
  "orig_nbformat": 4,
  "vscode": {
   "interpreter": {
    "hash": "697380624b61f43c7867c0e22d8ee9940ee6bb226406f1939fb62fb9223a9a15"
   }
  }
 },
 "nbformat": 4,
 "nbformat_minor": 2
}
