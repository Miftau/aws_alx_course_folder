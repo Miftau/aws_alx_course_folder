{
 "cells": [
  {
   "cell_type": "markdown",
   "metadata": {},
   "source": [
    "# Use the Shirt Class\n",
    "\n",
    "You've seen what a class looks like and how to instantiate an object. Now it's your turn to write code that insantiates a shirt object.\n",
    "\n",
    "# Explanation of the Code\n",
    "This exercise using Jupyter notebook includes three files:\n",
    "- shirt_exercise.ipynb, which is the file you are currently looking at\n",
    "- answer.py containing answers to the exercise\n",
    "- tests.py, tests for checking your code - you can run these tests using the last code cell at the bottom of this notebook\n",
    "\n",
    "# Your Task\n",
    "The shirt_exercise.ipynb file, which you are currently looking at if you are reading this, has an exercise to help guide you through coding with an object in Python.\n",
    "\n",
    "Fill out the TODOs in each section of the Jupyter notebook. You can find a solution in the answer.py file.\n",
    "\n",
    "First, run this code cell below to load the Shirt class."
   ]
  },
  {
   "cell_type": "code",
   "execution_count": 15,
   "metadata": {},
   "outputs": [],
   "source": [
    "class Shirt:\n",
    "\n",
    "    def __init__(self, shirt_color, shirt_size, shirt_style, shirt_price):\n",
    "        self.color = shirt_color\n",
    "        self.size = shirt_size\n",
    "        self.style = shirt_style\n",
    "        self.price = shirt_price\n",
    "    \n",
    "    def change_price(self, new_price):\n",
    "    \n",
    "        self.price = new_price\n",
    "        \n",
    "    def discount(self, discount):\n",
    "\n",
    "        return self.price * (1 - discount)"
   ]
  },
  {
   "cell_type": "code",
   "execution_count": 16,
   "metadata": {},
   "outputs": [],
   "source": [
    "### TODO:\n",
    "#    - insantiate a shirt object with the following characteristics:\n",
    "#        - color red, size S, style long-sleeve, and price 25\n",
    "#    - store the object in a variable called shirt_one\n",
    "\n",
    "shirt_one = Shirt(\"red\",\"S\" , \"long_sleeve\", 25)\n",
    "\n",
    "#\n",
    "#\n",
    "###"
   ]
  },
  {
   "cell_type": "code",
   "execution_count": 17,
   "metadata": {},
   "outputs": [
    {
     "name": "stdout",
     "output_type": "stream",
     "text": [
      "25\n",
      "10\n",
      "8.8\n"
     ]
    }
   ],
   "source": [
    "### TODO:\n",
    "#     - print the price of the shirt using the price attribute\n",
    "print(shirt_one.price)\n",
    "#     - use the change_price method to change the price of the shirt to 10\n",
    "shirt_one.change_price(10)\n",
    "#     - print the price of the shirt using the price attribute\n",
    "print(shirt_one.price)\n",
    "#     - use the discount method to print the price of the shirt with a 12% discount\n",
    "print(shirt_one.discount(.12))\n",
    "#\n",
    "###"
   ]
  },
  {
   "cell_type": "code",
   "execution_count": 18,
   "metadata": {},
   "outputs": [
    {
     "name": "stdout",
     "output_type": "stream",
     "text": [
      "orange\n",
      "L\n",
      "Short_sleeve\n",
      "10\n"
     ]
    }
   ],
   "source": [
    "### TODO:\n",
    "#\n",
    "#    - instantiate another object with the following characteristics:\n",
    "# .       - color orange, size L, style short-sleeve, and price 10\n",
    "#    - store the object in a variable called shirt_two\n",
    "shirt_two = Shirt(\"orange\", \"L\", \"Short_sleeve\", 10)\n",
    "print(shirt_two.color)\n",
    "print(shirt_two.size)\n",
    "print(shirt_two.style)\n",
    "print(shirt_two.price)\n",
    "\n",
    "#\n",
    "###"
   ]
  },
  {
   "cell_type": "code",
   "execution_count": 19,
   "metadata": {},
   "outputs": [
    {
     "name": "stdout",
     "output_type": "stream",
     "text": [
      "20\n"
     ]
    }
   ],
   "source": [
    "### TODO:\n",
    "#\n",
    "#    - calculate the total cost of shirt_one and shirt_two\n",
    "#    - store the results in a variable called total\n",
    "total = shirt_one.price + shirt_two.price\n",
    "print(total)\n",
    "#    \n",
    "###"
   ]
  },
  {
   "cell_type": "code",
   "execution_count": 20,
   "metadata": {},
   "outputs": [
    {
     "name": "stdout",
     "output_type": "stream",
     "text": [
      "18.0\n"
     ]
    }
   ],
   "source": [
    "### TODO:\n",
    "#\n",
    "#    - use the shirt discount method to calculate the total cost if\n",
    "#       shirt_one has a discount of 14% and shirt_two has a discount\n",
    "#       of 6%\n",
    "#    - store the results in a variable called total_discount\n",
    "\n",
    "total_discount = shirt_one.discount(.14) + shirt_two.discount(.06)\n",
    "print(total_discount)\n",
    "###"
   ]
  },
  {
   "cell_type": "markdown",
   "metadata": {},
   "source": [
    "# Test your Code\n",
    "\n",
    "\n",
    "The following code cell tests your code. \n",
    "\n",
    "There is a file called tests.py containing a function called run_tests(). The run_tests() function executes a handful of assert statements to check your work. You can see this file if you go to the Jupyter Notebook menu and click on \"File->Open\" and then open the tests.py file.\n",
    "\n",
    "Execute the next code cell. The code will produce an error if your answers in this exercise are not what was expected. Keep working on your code until all tests are passing.\n",
    "\n",
    "If you run the code cell and there is no output, then you passed all the tests!\n",
    "\n",
    "As mentioned previously, there's also a file with a solution. To find the solution, click on the Jupyter logo at the top of the workspace, and then enter the folder titled 1.OOP_syntax_shirt_practice"
   ]
  },
  {
   "cell_type": "code",
   "execution_count": 24,
   "metadata": {},
   "outputs": [
    {
     "ename": "AssertionError",
     "evalue": "shirt_one should be long_sleeve style",
     "output_type": "error",
     "traceback": [
      "\u001b[1;31m---------------------------------------------------------------------------\u001b[0m",
      "\u001b[1;31mAssertionError\u001b[0m                            Traceback (most recent call last)",
      "\u001b[1;32mc:\\Users\\PROGRESS ICT MEDIA\\OneDrive\\Desktop\\data_science\\aws_alx_course_folder\\shirt-exercise.ipynb Cell 9\u001b[0m in \u001b[0;36m<cell line: 4>\u001b[1;34m()\u001b[0m\n\u001b[0;32m      <a href='vscode-notebook-cell:/c%3A/Users/PROGRESS%20ICT%20MEDIA/OneDrive/Desktop/data_science/aws_alx_course_folder/shirt-exercise.ipynb#X11sZmlsZQ%3D%3D?line=0'>1</a>\u001b[0m \u001b[39m# Unit tests to check your solution\u001b[39;00m\n\u001b[0;32m      <a href='vscode-notebook-cell:/c%3A/Users/PROGRESS%20ICT%20MEDIA/OneDrive/Desktop/data_science/aws_alx_course_folder/shirt-exercise.ipynb#X11sZmlsZQ%3D%3D?line=1'>2</a>\u001b[0m \u001b[39mfrom\u001b[39;00m \u001b[39mtests\u001b[39;00m \u001b[39mimport\u001b[39;00m run_tests\n\u001b[1;32m----> <a href='vscode-notebook-cell:/c%3A/Users/PROGRESS%20ICT%20MEDIA/OneDrive/Desktop/data_science/aws_alx_course_folder/shirt-exercise.ipynb#X11sZmlsZQ%3D%3D?line=3'>4</a>\u001b[0m run_tests(shirt_one, shirt_two, total, total_discount)\n",
      "File \u001b[1;32mc:\\Users\\PROGRESS ICT MEDIA\\OneDrive\\Desktop\\data_science\\aws_alx_course_folder\\tests.py:6\u001b[0m, in \u001b[0;36mrun_tests\u001b[1;34m(shirt_one, shirt_two, total_cost, total_discount)\u001b[0m\n\u001b[0;32m      4\u001b[0m \u001b[39massert\u001b[39;00m shirt_one\u001b[39m.\u001b[39mprice \u001b[39m==\u001b[39m \u001b[39m10\u001b[39m, \u001b[39m'\u001b[39m\u001b[39mshirt_one price should be 10\u001b[39m\u001b[39m'\u001b[39m\n\u001b[0;32m      5\u001b[0m \u001b[39massert\u001b[39;00m shirt_one\u001b[39m.\u001b[39mcolor \u001b[39m==\u001b[39m \u001b[39m'\u001b[39m\u001b[39mred\u001b[39m\u001b[39m'\u001b[39m, \u001b[39m'\u001b[39m\u001b[39m shirt_one should be red\u001b[39m\u001b[39m'\u001b[39m\n\u001b[1;32m----> 6\u001b[0m \u001b[39massert\u001b[39;00m shirt_one\u001b[39m.\u001b[39mstyle \u001b[39m==\u001b[39m \u001b[39m'\u001b[39m\u001b[39mlong-sleeve\u001b[39m\u001b[39m'\u001b[39m, \u001b[39m'\u001b[39m\u001b[39mshirt_one should be long_sleeve style\u001b[39m\u001b[39m'\u001b[39m\n\u001b[0;32m      7\u001b[0m \u001b[39massert\u001b[39;00m shirt_one\u001b[39m.\u001b[39msize \u001b[39m==\u001b[39m \u001b[39m'\u001b[39m\u001b[39mS\u001b[39m\u001b[39m'\u001b[39m, \u001b[39m'\u001b[39m\u001b[39mshirt_one size should be S\u001b[39m\u001b[39m'\u001b[39m\n\u001b[0;32m      9\u001b[0m \u001b[39massert\u001b[39;00m shirt_two\u001b[39m.\u001b[39mprice \u001b[39m==\u001b[39m \u001b[39m10\u001b[39m, \u001b[39m'\u001b[39m\u001b[39mshirt_two price should be 10\u001b[39m\u001b[39m'\u001b[39m\n",
      "\u001b[1;31mAssertionError\u001b[0m: shirt_one should be long_sleeve style"
     ]
    }
   ],
   "source": [
    "# Unit tests to check your solution\n",
    "from tests import run_tests\n",
    "\n",
    "run_tests(shirt_one, shirt_two, total, total_discount)"
   ]
  }
 ],
 "metadata": {
  "kernelspec": {
   "display_name": "Python 3.10.5 64-bit",
   "language": "python",
   "name": "python3"
  },
  "language_info": {
   "codemirror_mode": {
    "name": "ipython",
    "version": 3
   },
   "file_extension": ".py",
   "mimetype": "text/x-python",
   "name": "python",
   "nbconvert_exporter": "python",
   "pygments_lexer": "ipython3",
   "version": "3.10.5"
  },
  "vscode": {
   "interpreter": {
    "hash": "697380624b61f43c7867c0e22d8ee9940ee6bb226406f1939fb62fb9223a9a15"
   }
  }
 },
 "nbformat": 4,
 "nbformat_minor": 2
}
